{
 "cells": [
  {
   "cell_type": "code",
   "execution_count": 1,
   "id": "c2930d68",
   "metadata": {},
   "outputs": [],
   "source": [
    "import pandas as pd\n",
    "import pymongo\n",
    "import json"
   ]
  },
  {
   "cell_type": "code",
   "execution_count": 2,
   "id": "f125be9c",
   "metadata": {},
   "outputs": [],
   "source": [
    "client = pymongo.MongoClient(\"mongodb://localhost:27017\")"
   ]
  },
  {
   "cell_type": "code",
   "execution_count": 4,
   "id": "4a5948bc",
   "metadata": {},
   "outputs": [
    {
     "data": {
      "text/html": [
       "<div>\n",
       "<style scoped>\n",
       "    .dataframe tbody tr th:only-of-type {\n",
       "        vertical-align: middle;\n",
       "    }\n",
       "\n",
       "    .dataframe tbody tr th {\n",
       "        vertical-align: top;\n",
       "    }\n",
       "\n",
       "    .dataframe thead th {\n",
       "        text-align: right;\n",
       "    }\n",
       "</style>\n",
       "<table border=\"1\" class=\"dataframe\">\n",
       "  <thead>\n",
       "    <tr style=\"text-align: right;\">\n",
       "      <th></th>\n",
       "      <th>Unnamed: 0</th>\n",
       "      <th>App Name</th>\n",
       "      <th>Category</th>\n",
       "      <th>Rating</th>\n",
       "      <th>Rating Count</th>\n",
       "      <th>Maximum Installs</th>\n",
       "      <th>Price</th>\n",
       "      <th>Size (Mb)</th>\n",
       "      <th>Released</th>\n",
       "      <th>Month_Num</th>\n",
       "      <th>Month_Name</th>\n",
       "      <th>Ad Supported</th>\n",
       "      <th>In App Purchases</th>\n",
       "    </tr>\n",
       "  </thead>\n",
       "  <tbody>\n",
       "    <tr>\n",
       "      <th>0</th>\n",
       "      <td>1</td>\n",
       "      <td>Ampere Battery Info</td>\n",
       "      <td>Tools</td>\n",
       "      <td>4.4</td>\n",
       "      <td>64</td>\n",
       "      <td>7662</td>\n",
       "      <td>0.0</td>\n",
       "      <td>2.9</td>\n",
       "      <td>5/21/2020</td>\n",
       "      <td>5</td>\n",
       "      <td>May</td>\n",
       "      <td>1</td>\n",
       "      <td>0</td>\n",
       "    </tr>\n",
       "    <tr>\n",
       "      <th>1</th>\n",
       "      <td>9</td>\n",
       "      <td>Neon 3d Iron Tech Keyboard Theme</td>\n",
       "      <td>Personalization</td>\n",
       "      <td>4.7</td>\n",
       "      <td>820</td>\n",
       "      <td>62433</td>\n",
       "      <td>0.0</td>\n",
       "      <td>3.5</td>\n",
       "      <td>9/22/2019</td>\n",
       "      <td>9</td>\n",
       "      <td>September</td>\n",
       "      <td>1</td>\n",
       "      <td>0</td>\n",
       "    </tr>\n",
       "    <tr>\n",
       "      <th>2</th>\n",
       "      <td>10</td>\n",
       "      <td>Dodge The Cars!</td>\n",
       "      <td>Racing</td>\n",
       "      <td>4.9</td>\n",
       "      <td>55</td>\n",
       "      <td>329</td>\n",
       "      <td>0.0</td>\n",
       "      <td>51</td>\n",
       "      <td>7/30/2020</td>\n",
       "      <td>7</td>\n",
       "      <td>July</td>\n",
       "      <td>0</td>\n",
       "      <td>0</td>\n",
       "    </tr>\n",
       "    <tr>\n",
       "      <th>3</th>\n",
       "      <td>12</td>\n",
       "      <td>桃園機場捷運時刻表 - 捷運轉乘路線快速查詢(支援台北捷運)</td>\n",
       "      <td>Travel &amp; Local</td>\n",
       "      <td>3.9</td>\n",
       "      <td>118</td>\n",
       "      <td>37763</td>\n",
       "      <td>0.0</td>\n",
       "      <td>7.6</td>\n",
       "      <td>4/3/2018</td>\n",
       "      <td>4</td>\n",
       "      <td>April</td>\n",
       "      <td>1</td>\n",
       "      <td>0</td>\n",
       "    </tr>\n",
       "    <tr>\n",
       "      <th>4</th>\n",
       "      <td>14</td>\n",
       "      <td>Caliway Conductor</td>\n",
       "      <td>Travel &amp; Local</td>\n",
       "      <td>3.7</td>\n",
       "      <td>1572</td>\n",
       "      <td>42856</td>\n",
       "      <td>0.0</td>\n",
       "      <td>29</td>\n",
       "      <td>9/5/2018</td>\n",
       "      <td>9</td>\n",
       "      <td>September</td>\n",
       "      <td>0</td>\n",
       "      <td>0</td>\n",
       "    </tr>\n",
       "  </tbody>\n",
       "</table>\n",
       "</div>"
      ],
      "text/plain": [
       "   Unnamed: 0                          App Name         Category  Rating  \\\n",
       "0           1               Ampere Battery Info            Tools     4.4   \n",
       "1           9  Neon 3d Iron Tech Keyboard Theme  Personalization     4.7   \n",
       "2          10                   Dodge The Cars!           Racing     4.9   \n",
       "3          12    桃園機場捷運時刻表 - 捷運轉乘路線快速查詢(支援台北捷運)   Travel & Local     3.9   \n",
       "4          14                 Caliway Conductor   Travel & Local     3.7   \n",
       "\n",
       "   Rating Count  Maximum Installs  Price Size (Mb)   Released  Month_Num  \\\n",
       "0            64              7662    0.0       2.9  5/21/2020          5   \n",
       "1           820             62433    0.0       3.5  9/22/2019          9   \n",
       "2            55               329    0.0        51  7/30/2020          7   \n",
       "3           118             37763    0.0       7.6   4/3/2018          4   \n",
       "4          1572             42856    0.0        29   9/5/2018          9   \n",
       "\n",
       "  Month_Name  Ad Supported  In App Purchases  \n",
       "0        May             1                 0  \n",
       "1  September             1                 0  \n",
       "2       July             0                 0  \n",
       "3      April             1                 0  \n",
       "4  September             0                 0  "
      ]
     },
     "execution_count": 4,
     "metadata": {},
     "output_type": "execute_result"
    }
   ],
   "source": [
    "df = pd.read_csv('Project/Google_App_Store_Data_Clean.csv')\n",
    "df.head()"
   ]
  },
  {
   "cell_type": "code",
   "execution_count": 5,
   "id": "663b7eae",
   "metadata": {},
   "outputs": [
    {
     "data": {
      "text/plain": [
       "(518094, 13)"
      ]
     },
     "execution_count": 5,
     "metadata": {},
     "output_type": "execute_result"
    }
   ],
   "source": [
    "df.shape"
   ]
  },
  {
   "cell_type": "code",
   "execution_count": 6,
   "id": "da0be658",
   "metadata": {},
   "outputs": [],
   "source": [
    "data = df.to_dict(orient = \"records\")"
   ]
  },
  {
   "cell_type": "code",
   "execution_count": 7,
   "id": "267b2360",
   "metadata": {},
   "outputs": [],
   "source": [
    "db = client[\"Google_App_Store_Data\"]"
   ]
  },
  {
   "cell_type": "code",
   "execution_count": 8,
   "id": "f46b05c4",
   "metadata": {},
   "outputs": [
    {
     "data": {
      "text/plain": [
       "<pymongo.results.InsertManyResult at 0x128a32d9188>"
      ]
     },
     "execution_count": 8,
     "metadata": {},
     "output_type": "execute_result"
    }
   ],
   "source": [
    "db.Google_App_Store_Data.insert_many(data)"
   ]
  }
 ],
 "metadata": {
  "kernelspec": {
   "display_name": "mlenv",
   "language": "python",
   "name": "mlenv"
  },
  "language_info": {
   "codemirror_mode": {
    "name": "ipython",
    "version": 3
   },
   "file_extension": ".py",
   "mimetype": "text/x-python",
   "name": "python",
   "nbconvert_exporter": "python",
   "pygments_lexer": "ipython3",
   "version": "3.7.11"
  }
 },
 "nbformat": 4,
 "nbformat_minor": 5
}
