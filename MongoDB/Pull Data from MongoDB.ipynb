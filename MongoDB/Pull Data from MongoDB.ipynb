{
 "cells": [
  {
   "cell_type": "markdown",
   "id": "1a864ef3",
   "metadata": {},
   "source": [
    "# Load collection from Mongo to Python"
   ]
  },
  {
   "cell_type": "code",
   "execution_count": 1,
   "id": "96e39234",
   "metadata": {},
   "outputs": [],
   "source": [
    "import pymongo\n",
    "import pandas as pd"
   ]
  },
  {
   "cell_type": "code",
   "execution_count": 2,
   "id": "3b790b0c",
   "metadata": {},
   "outputs": [],
   "source": [
    "client = pymongo.MongoClient(\"mongodb://localhost:27017\")"
   ]
  },
  {
   "cell_type": "code",
   "execution_count": 3,
   "id": "e1f4a131",
   "metadata": {},
   "outputs": [],
   "source": [
    "db = client[\"Google_App_Store_Data\"]"
   ]
  },
  {
   "cell_type": "code",
   "execution_count": 4,
   "id": "72895c34",
   "metadata": {},
   "outputs": [
    {
     "name": "stdout",
     "output_type": "stream",
     "text": [
      "Database(MongoClient(host=['localhost:27017'], document_class=dict, tz_aware=False, connect=True), 'Google_App_Store_Data')\n"
     ]
    }
   ],
   "source": [
    "print(db)"
   ]
  },
  {
   "cell_type": "code",
   "execution_count": 5,
   "id": "6a1f78e6",
   "metadata": {},
   "outputs": [],
   "source": [
    "mycollection = db[\"Google_App_Store_Data\"]"
   ]
  },
  {
   "cell_type": "code",
   "execution_count": 6,
   "id": "fb112f4b",
   "metadata": {},
   "outputs": [
    {
     "name": "stdout",
     "output_type": "stream",
     "text": [
      "Collection(Database(MongoClient(host=['localhost:27017'], document_class=dict, tz_aware=False, connect=True), 'Google_App_Store_Data'), 'Google_App_Store_Data')\n"
     ]
    }
   ],
   "source": [
    "print(mycollection)"
   ]
  },
  {
   "cell_type": "code",
   "execution_count": 7,
   "id": "686a1b15",
   "metadata": {},
   "outputs": [],
   "source": [
    "all_records= mycollection.find()"
   ]
  },
  {
   "cell_type": "code",
   "execution_count": 8,
   "id": "c5e6dddc",
   "metadata": {},
   "outputs": [
    {
     "name": "stdout",
     "output_type": "stream",
     "text": [
      "<pymongo.cursor.Cursor object at 0x000002BF9DCBF2C8>\n"
     ]
    }
   ],
   "source": [
    "print(all_records)"
   ]
  },
  {
   "cell_type": "code",
   "execution_count": 9,
   "id": "7fd7c0a3",
   "metadata": {},
   "outputs": [],
   "source": [
    "list_cursor = list(all_records)"
   ]
  },
  {
   "cell_type": "code",
   "execution_count": 10,
   "id": "3a600f3b",
   "metadata": {},
   "outputs": [
    {
     "name": "stderr",
     "output_type": "stream",
     "text": [
      "IOPub data rate exceeded.\n",
      "The notebook server will temporarily stop sending output\n",
      "to the client in order to avoid crashing it.\n",
      "To change this limit, set the config variable\n",
      "`--NotebookApp.iopub_data_rate_limit`.\n",
      "\n",
      "Current values:\n",
      "NotebookApp.iopub_data_rate_limit=1000000.0 (bytes/sec)\n",
      "NotebookApp.rate_limit_window=3.0 (secs)\n",
      "\n"
     ]
    }
   ],
   "source": [
    "print(list_cursor)"
   ]
  },
  {
   "cell_type": "code",
   "execution_count": 11,
   "id": "2a43d232",
   "metadata": {},
   "outputs": [],
   "source": [
    "df = pd.DataFrame(list_cursor)"
   ]
  },
  {
   "cell_type": "code",
   "execution_count": 12,
   "id": "7bf0a8e3",
   "metadata": {},
   "outputs": [
    {
     "data": {
      "text/html": [
       "<div>\n",
       "<style scoped>\n",
       "    .dataframe tbody tr th:only-of-type {\n",
       "        vertical-align: middle;\n",
       "    }\n",
       "\n",
       "    .dataframe tbody tr th {\n",
       "        vertical-align: top;\n",
       "    }\n",
       "\n",
       "    .dataframe thead th {\n",
       "        text-align: right;\n",
       "    }\n",
       "</style>\n",
       "<table border=\"1\" class=\"dataframe\">\n",
       "  <thead>\n",
       "    <tr style=\"text-align: right;\">\n",
       "      <th></th>\n",
       "      <th>_id</th>\n",
       "      <th>Unnamed: 0</th>\n",
       "      <th>App Name</th>\n",
       "      <th>Category</th>\n",
       "      <th>Rating</th>\n",
       "      <th>Rating Count</th>\n",
       "      <th>Maximum Installs</th>\n",
       "      <th>Price</th>\n",
       "      <th>Size (Mb)</th>\n",
       "      <th>Released</th>\n",
       "      <th>Ad Supported</th>\n",
       "      <th>In App Purchases</th>\n",
       "    </tr>\n",
       "  </thead>\n",
       "  <tbody>\n",
       "    <tr>\n",
       "      <th>0</th>\n",
       "      <td>61bf87269ef5b1995ddb0460</td>\n",
       "      <td>1</td>\n",
       "      <td>Ampere Battery Info</td>\n",
       "      <td>Tools</td>\n",
       "      <td>4.4</td>\n",
       "      <td>64</td>\n",
       "      <td>7662</td>\n",
       "      <td>0.0</td>\n",
       "      <td>2.9</td>\n",
       "      <td>5/21/2020</td>\n",
       "      <td>1</td>\n",
       "      <td>0</td>\n",
       "    </tr>\n",
       "    <tr>\n",
       "      <th>1</th>\n",
       "      <td>61bf87269ef5b1995ddb0461</td>\n",
       "      <td>9</td>\n",
       "      <td>Neon 3d Iron Tech Keyboard Theme</td>\n",
       "      <td>Personalization</td>\n",
       "      <td>4.7</td>\n",
       "      <td>820</td>\n",
       "      <td>62433</td>\n",
       "      <td>0.0</td>\n",
       "      <td>3.5</td>\n",
       "      <td>9/22/2019</td>\n",
       "      <td>1</td>\n",
       "      <td>0</td>\n",
       "    </tr>\n",
       "    <tr>\n",
       "      <th>2</th>\n",
       "      <td>61bf87269ef5b1995ddb0462</td>\n",
       "      <td>10</td>\n",
       "      <td>Dodge The Cars!</td>\n",
       "      <td>Racing</td>\n",
       "      <td>4.9</td>\n",
       "      <td>55</td>\n",
       "      <td>329</td>\n",
       "      <td>0.0</td>\n",
       "      <td>51</td>\n",
       "      <td>7/30/2020</td>\n",
       "      <td>0</td>\n",
       "      <td>0</td>\n",
       "    </tr>\n",
       "    <tr>\n",
       "      <th>3</th>\n",
       "      <td>61bf87269ef5b1995ddb0463</td>\n",
       "      <td>12</td>\n",
       "      <td>桃園機場捷運時刻表 - 捷運轉乘路線快速查詢(支援台北捷運)</td>\n",
       "      <td>Travel &amp; Local</td>\n",
       "      <td>3.9</td>\n",
       "      <td>118</td>\n",
       "      <td>37763</td>\n",
       "      <td>0.0</td>\n",
       "      <td>7.6</td>\n",
       "      <td>4/3/2018</td>\n",
       "      <td>1</td>\n",
       "      <td>0</td>\n",
       "    </tr>\n",
       "    <tr>\n",
       "      <th>4</th>\n",
       "      <td>61bf87269ef5b1995ddb0464</td>\n",
       "      <td>14</td>\n",
       "      <td>Caliway Conductor</td>\n",
       "      <td>Travel &amp; Local</td>\n",
       "      <td>3.7</td>\n",
       "      <td>1572</td>\n",
       "      <td>42856</td>\n",
       "      <td>0.0</td>\n",
       "      <td>29</td>\n",
       "      <td>9/5/2018</td>\n",
       "      <td>0</td>\n",
       "      <td>0</td>\n",
       "    </tr>\n",
       "  </tbody>\n",
       "</table>\n",
       "</div>"
      ],
      "text/plain": [
       "                        _id  Unnamed: 0                          App Name  \\\n",
       "0  61bf87269ef5b1995ddb0460           1               Ampere Battery Info   \n",
       "1  61bf87269ef5b1995ddb0461           9  Neon 3d Iron Tech Keyboard Theme   \n",
       "2  61bf87269ef5b1995ddb0462          10                   Dodge The Cars!   \n",
       "3  61bf87269ef5b1995ddb0463          12    桃園機場捷運時刻表 - 捷運轉乘路線快速查詢(支援台北捷運)   \n",
       "4  61bf87269ef5b1995ddb0464          14                 Caliway Conductor   \n",
       "\n",
       "          Category  Rating  Rating Count  Maximum Installs  Price Size (Mb)  \\\n",
       "0            Tools     4.4            64              7662    0.0       2.9   \n",
       "1  Personalization     4.7           820             62433    0.0       3.5   \n",
       "2           Racing     4.9            55               329    0.0        51   \n",
       "3   Travel & Local     3.9           118             37763    0.0       7.6   \n",
       "4   Travel & Local     3.7          1572             42856    0.0        29   \n",
       "\n",
       "    Released  Ad Supported  In App Purchases  \n",
       "0  5/21/2020             1                 0  \n",
       "1  9/22/2019             1                 0  \n",
       "2  7/30/2020             0                 0  \n",
       "3   4/3/2018             1                 0  \n",
       "4   9/5/2018             0                 0  "
      ]
     },
     "execution_count": 12,
     "metadata": {},
     "output_type": "execute_result"
    }
   ],
   "source": [
    "df.head()"
   ]
  },
  {
   "cell_type": "code",
   "execution_count": null,
   "id": "ade15eb1",
   "metadata": {},
   "outputs": [],
   "source": []
  }
 ],
 "metadata": {
  "kernelspec": {
   "display_name": "PythonData",
   "language": "python",
   "name": "pythondata"
  },
  "language_info": {
   "codemirror_mode": {
    "name": "ipython",
    "version": 3
   },
   "file_extension": ".py",
   "mimetype": "text/x-python",
   "name": "python",
   "nbconvert_exporter": "python",
   "pygments_lexer": "ipython3",
   "version": "3.7.10"
  }
 },
 "nbformat": 4,
 "nbformat_minor": 5
}
